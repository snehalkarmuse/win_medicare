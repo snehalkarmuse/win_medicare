{
 "cells": [
  {
   "cell_type": "code",
   "execution_count": 45,
   "id": "d3cad315-c821-498a-bf77-25cd5aa1f429",
   "metadata": {},
   "outputs": [],
   "source": [
    "import pandas as pd\n",
    "df = pd.DataFrame()\n",
    "df_list = []\n",
    "excel_data = pd.ExcelFile(\"data_2017_2019.xlsx\")\n",
    "sheet_names = excel_data.sheet_names\n",
    "\n",
    "for sheet_name in excel_data.sheet_names:\n",
    "    df = excel_data.parse(sheet_name)\n",
    "    df_list.append(df)\n"
   ]
  },
  {
   "cell_type": "code",
   "execution_count": 35,
   "id": "e14fd678-08fb-4946-905b-7e39b1b010a3",
   "metadata": {},
   "outputs": [
    {
     "data": {
      "text/plain": [
       "(295, 7)"
      ]
     },
     "execution_count": 35,
     "metadata": {},
     "output_type": "execute_result"
    }
   ],
   "source": [
    "data.shape"
   ]
  },
  {
   "cell_type": "code",
   "execution_count": 27,
   "id": "8f6c4610-cb8e-4c25-933b-ee0165c868a3",
   "metadata": {},
   "outputs": [
    {
     "name": "stdout",
     "output_type": "stream",
     "text": [
      "Index(['Unnamed: 0', 'Unnamed: 1', 'Unnamed: 2', 'Unnamed: 3', 'Unnamed: 4',\n",
      "       'Unnamed: 5', 'Unnamed: 6'],\n",
      "      dtype='object')\n"
     ]
    }
   ],
   "source": [
    "print(data.keys())"
   ]
  },
  {
   "cell_type": "code",
   "execution_count": null,
   "id": "98e7c9b0-16f1-4be0-9d20-40774bdb1d73",
   "metadata": {},
   "outputs": [],
   "source": []
  },
  {
   "cell_type": "code",
   "execution_count": null,
   "id": "b905882d-e0eb-4d42-8bde-639af1a83e93",
   "metadata": {},
   "outputs": [],
   "source": []
  }
 ],
 "metadata": {
  "kernelspec": {
   "display_name": "multi_retail_data_env",
   "language": "python",
   "name": "python3"
  },
  "language_info": {
   "codemirror_mode": {
    "name": "ipython",
    "version": 3
   },
   "file_extension": ".py",
   "mimetype": "text/x-python",
   "name": "python",
   "nbconvert_exporter": "python",
   "pygments_lexer": "ipython3",
   "version": "3.10.9 (main, Jan 11 2023, 09:18:18) [Clang 14.0.6 ]"
  },
  "vscode": {
   "interpreter": {
    "hash": "54e265ae3d7dbf25841cea8fea98eddcf9f35416543800b4bd58b7cb8d578da9"
   }
  }
 },
 "nbformat": 4,
 "nbformat_minor": 5
}
